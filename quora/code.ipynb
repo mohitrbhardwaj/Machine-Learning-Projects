{
 "cells": [
  {
   "cell_type": "code",
   "execution_count": 1,
   "metadata": {
    "collapsed": true
   },
   "outputs": [],
   "source": [
    "from sklearn.feature_extraction.text import TfidfVectorizer\n",
    "from sklearn.metrics.pairwise import cosine_similarity\n",
    "from sklearn.model_selection import GridSearchCV  \n",
    "from sklearn.preprocessing import Imputer\n",
    "from sklearn import linear_model\n",
    "import pandas as pd\n",
    "import numpy as np\n",
    "from sklearn.ensemble import RandomForestClassifier\n",
    "from sklearn import tree\n",
    "import matplotlib.pyplot as plt\n",
    "# param2 = { 'n_estimators':[1,5,10,50,100,150,350,500,750],'oob_score':('True','False'),'criterion':('gini','entropy')}\n",
    "\n",
    "clf = RandomForestClassifier(n_estimators=10, n_jobs=-1)\n",
    "# clf = GridSearchCV(rf,param2)\n",
    "# param = {'solver' : ('newton-cg', 'lbfgs', 'liblinear', 'sag'), 'C':[1,10,50,100,500,1000,5000,10000,50000,100000,500000,1000000,5000000]}\n",
    "# clf=GridSearchCV(clfgs,param)"
   ]
  },
  {
   "cell_type": "code",
   "execution_count": 2,
   "metadata": {
    "collapsed": true
   },
   "outputs": [],
   "source": [
    "train_set = pd.read_csv(\"/home/mohitrbhardwaj/Desktop/kaggle/quora/train.csv\")\n",
    "test_set = pd.read_csv(\"/home/mohitrbhardwaj/Desktop/kaggle/quora/test.csv\")"
   ]
  },
  {
   "cell_type": "code",
   "execution_count": 3,
   "metadata": {},
   "outputs": [
    {
     "name": "stdout",
     "output_type": "stream",
     "text": [
      "id\n",
      "qid1\n",
      "qid2\n",
      "question1\n",
      "question2\n",
      "is_duplicate\n"
     ]
    }
   ],
   "source": [
    "for x in train_set:\n",
    "    print(x)"
   ]
  },
  {
   "cell_type": "code",
   "execution_count": 4,
   "metadata": {},
   "outputs": [],
   "source": [
    "# print('Total number of question pairs for training: {}'.format(len(train_set)))\n",
    "# print('Duplicate pairs: {}%'.format(round(train_set['is_duplicate'].mean()*100, 2)))\n",
    "# qids = pd.Series(train_set['qid1'].tolist() + train_set['qid2'].tolist())\n",
    "# print('Total number of questions in the training data: {}'.format(len(np.unique(qids))))\n",
    "# print('Number of questions that appear multiple times: {}'.format(np.sum(qids.value_counts() > 1)))\n",
    "\n",
    "# plt.figure(figsize=(12, 5))\n",
    "# plt.hist(qids.value_counts(), bins=50)\n",
    "# plt.yscale('log', nonposy='clip')\n",
    "# plt.title('Log-Histogram of question appearance counts')\n",
    "# plt.xlabel('Number of occurences of question')\n",
    "# plt.ylabel('Number of questions')\n",
    "# print()\n",
    "# plt.show()"
   ]
  },
  {
   "cell_type": "code",
   "execution_count": 5,
   "metadata": {
    "collapsed": true
   },
   "outputs": [],
   "source": [
    "# tfidf_vectorizer = TfidfVectorizer()\n",
    "\n",
    "# var = 0\n",
    "# for x in test_set:\n",
    "#     print(x)\n",
    "# bar = 0\n",
    "# ja = 0\n",
    "# for x in test_set['question1']:\n",
    "#     if(type(test_set['question1'][bar])==str and type(test_set['question2'][bar])==str):\n",
    "#         print('yes')\n",
    "#         ja+=1\n",
    "#     bar+=1\n",
    "# if():\n",
    "#     vect1 = tfidf_vectorizer.fit_transform(test_set['question1'].values.astype('U'))\n",
    "#     vect2 = tfidf_vectorizer.fit_transform(test_set['question1'].values.astype('U')) "
   ]
  },
  {
   "cell_type": "code",
   "execution_count": 7,
   "metadata": {},
   "outputs": [],
   "source": []
  },
  {
   "cell_type": "code",
   "execution_count": 8,
   "metadata": {
    "collapsed": true
   },
   "outputs": [],
   "source": [
    "var = 0\n",
    "counter = 0 \n",
    "for x in train_set['question1']:\n",
    "    lis1 = []\n",
    "    if(pd.isnull(train_set['question1'][var])==False):\n",
    "        if(pd.isnull(train_set['question2'][var])==True):\n",
    "            train_set['question2'][var]=\"w\"\n",
    "    else:\n",
    "        train_set['question1'][var]=\"w\"\n",
    "        if(pd.isnull(train_set['question2'][var])==True):\n",
    "            train_set['question2'][var]=\"w\"\n",
    "    var+=1\n",
    "    counter+=1"
   ]
  },
  {
   "cell_type": "code",
   "execution_count": 9,
   "metadata": {},
   "outputs": [
    {
     "name": "stderr",
     "output_type": "stream",
     "text": [
      "/home/mohitrbhardwaj/anaconda3/lib/python3.6/site-packages/ipykernel_launcher.py:7: SettingWithCopyWarning: \n",
      "A value is trying to be set on a copy of a slice from a DataFrame\n",
      "\n",
      "See the caveats in the documentation: http://pandas.pydata.org/pandas-docs/stable/indexing.html#indexing-view-versus-copy\n",
      "  import sys\n",
      "/home/mohitrbhardwaj/anaconda3/lib/python3.6/site-packages/ipykernel_launcher.py:9: SettingWithCopyWarning: \n",
      "A value is trying to be set on a copy of a slice from a DataFrame\n",
      "\n",
      "See the caveats in the documentation: http://pandas.pydata.org/pandas-docs/stable/indexing.html#indexing-view-versus-copy\n",
      "  if __name__ == '__main__':\n"
     ]
    }
   ],
   "source": [
    "var = 0\n",
    "counter = 0 \n",
    "for x in test_set['question1']:\n",
    "    lis1 = []\n",
    "    if(pd.isnull(test_set['question1'][var])==False):\n",
    "        if(pd.isnull(test_set['question2'][var])==True):\n",
    "            test_set['question2'][var]=\"e\"\n",
    "    else:\n",
    "        test_set['question1'][var]=\"e\"\n",
    "        if(pd.isnull(test_set['question2'][var])==True):\n",
    "            test_set['question2'][var]=\"e\"\n",
    "    var+=1\n",
    "    counter+=1"
   ]
  },
  {
   "cell_type": "code",
   "execution_count": 11,
   "metadata": {
    "collapsed": true
   },
   "outputs": [],
   "source": [
    "temp = pd.DataFrame()\n",
    "temp = train_set\n",
    "temp.to_csv(\"train1.csv\",index=False)\n",
    "temp = test_set\n",
    "temp.to_csv(\"test1.csv\",index=False)\n"
   ]
  },
  {
   "cell_type": "code",
   "execution_count": 12,
   "metadata": {
    "collapsed": true
   },
   "outputs": [],
   "source": [
    "train_set = pd.read_csv(\"/home/mohitrbhardwaj/Desktop/kaggle/quora/train1.csv\")\n",
    "test_set = pd.read_csv(\"/home/mohitrbhardwaj/Desktop/kaggle/quora/test1.csv\")"
   ]
  },
  {
   "cell_type": "code",
   "execution_count": null,
   "metadata": {
    "collapsed": true
   },
   "outputs": [],
   "source": [
    "for x in test_set:\n",
    "    print(x)"
   ]
  },
  {
   "cell_type": "code",
   "execution_count": null,
   "metadata": {
    "collapsed": true
   },
   "outputs": [],
   "source": [
    "# print(res[0])\n",
    "res = tfidf_vectorizer.fit_transform(train_set['question1']+train_set['question2'])\n",
    "# res = res\n",
    "res = res \n",
    "tar = train_set['is_duplicate']\n",
    "clf.fit(res,tar)\n",
    "test_res = tfidf_vectorizer.transform(test_set['question1']+test_set['question2'])\n",
    "# test_res.shape\n",
    "# xx = clf.predict(test_res)"
   ]
  },
  {
   "cell_type": "code",
   "execution_count": null,
   "metadata": {
    "collapsed": true
   },
   "outputs": [],
   "source": [
    "xx = clf.predict_proba(test_res)\n",
    "# print(train_set[30000:30004])\n",
    "# print(res[30000:30001])\n",
    "xx = np.transpose(xx)\n",
    "# print(xx[1][:10])"
   ]
  },
  {
   "cell_type": "code",
   "execution_count": null,
   "metadata": {
    "collapsed": true
   },
   "outputs": [],
   "source": [
    "# plt.plot(test_res[0], 'ro')\n",
    "# plt.axis([0, 6, 0, 20])\n",
    "# plt.show()\n",
    "print(clf.score(tfidf_vectorizer.transform(train_set['question1'][30001:40000]+train_set['question2'][30001:40000]),np.asarray(train_set['is_duplicate'][30001:40000])))"
   ]
  },
  {
   "cell_type": "code",
   "execution_count": null,
   "metadata": {
    "collapsed": true
   },
   "outputs": [],
   "source": [
    "sol = pd.DataFrame()\n",
    "sol['test_id']=test_set['test_id']\n",
    "print(\"yaha tk ho? gaya\")\n",
    "sol['is_duplicate']=xx[1]\n",
    "print(\"yeh bhi\")\n",
    "sol.to_csv(\"submission.csv\",index=False)"
   ]
  },
  {
   "cell_type": "code",
   "execution_count": null,
   "metadata": {
    "collapsed": true
   },
   "outputs": [],
   "source": [
    "print(sol.head())\n",
    "print(test_set['question1'].head())\n",
    "# print(test_set['question2'][:5])"
   ]
  },
  {
   "cell_type": "code",
   "execution_count": null,
   "metadata": {
    "collapsed": true
   },
   "outputs": [],
   "source": [
    "\n",
    "# print(train_set.head())\n",
    "\n",
    "# cluster = []    \n",
    "# k=0\n",
    "# length=0\n",
    "# fl = []\n",
    "# for i in range(1000000):\n",
    "#     fl.append(False)\n",
    "# for x in train_set['question1']:\n",
    "#     if(train_set['is_duplicate'][length]==1):\n",
    "#         if all([fl[train_set['id1'][length]]==False , fl[train_set['id2'][length]]==False]):\n",
    "#             cat[train_set['id1'][length]]=k\n",
    "#             cat[train_set['id2'][length]]=k\n",
    "#             fl[train_set['id1'][length]]=True\n",
    "#             fl[train_set['id2'][length]]=True\n",
    "#             k+=1\n",
    "#         elif(fl[train_set['id1'][length]]==False):\n",
    "#             cat[train_set['id1'][length]]=cat[train_set['id2'][length]]\n",
    "#             fl[train_set['id1'][length]]=True\n",
    "#         elif(fl[train_set['id2'][length]]==False):\n",
    "#             cat[train_set['id2'][length]]=cat[train_set['id1'][length]]\n",
    "#             fl[train_set['id2'][length]]=True\n",
    "#     else:\n",
    "#         if(fl[train_set['id1'][length]]==False):\n",
    "#             cat[train_set['id1'][length]]=k\n",
    "#             fl[train_set['id1'][length]]=True\n",
    "#         if(fl[train_set['id2'][length]]==False):\n",
    "#             cat[train_set['id1'][length]]=k\n",
    "#             fl[train_set['id1'][length]]=True\n",
    "            \n",
    "# for i in range(k+2):\n",
    "#     cluster.append([])    "
   ]
  }
 ],
 "metadata": {
  "kernelspec": {
   "display_name": "Python 3",
   "language": "python",
   "name": "python3"
  },
  "language_info": {
   "codemirror_mode": {
    "name": "ipython",
    "version": 3
   },
   "file_extension": ".py",
   "mimetype": "text/x-python",
   "name": "python",
   "nbconvert_exporter": "python",
   "pygments_lexer": "ipython3",
   "version": "3.6.0"
  }
 },
 "nbformat": 4,
 "nbformat_minor": 2
}
